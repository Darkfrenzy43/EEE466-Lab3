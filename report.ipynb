{
 "cells": [
  {
   "cell_type": "markdown",
   "metadata": {
    "collapsed": false,
    "pycharm": {
     "name": "#%% md\n"
    }
   },
   "source": [
    "# Lab 3\n",
    "## OCdt Velasco, OCdt Brown\n",
    "Submitted 13 Oct 23\n",
    "\n",
    "# Discussion\n",
    "The overarching design of the ground station’s program implementation adopted a  similar approach to the UDP client program submitted for lab 1, albeit in an Object Oriented Programming (OOP) fashion. This design approach was taken simply because the ground station’s “main loop actions” closely resemble those implemented for lab 1’s UDP client: wait for a user input (and account for bad input), send a particular message to the server depending on what was inputted, wait for the server’s reply, and display the reply’s contents accordingly to the console accordingly. Obviously, in the ground station program these functionalities were implemented using class methods rather than plain python functions. Furthermore, messages sent to and from the satellite server were now serialized pieces of more complex forms of data, which had followed a message format defined by a “protobuf” file.\n",
    "\n",
    "The main loop of the ground station program was written in a dedicated class method - it made sense to have a convenient and abstract way to create, set up the needed socket objects, and begin execution of the ground station program. Consequently, this is actioned by simply instantiating a ground station object and calling its main loop method. In this method, all of the ground station main loop functionalities described in the previous paragraph were implemented in a linear and logical fashion. To continue practicing good compartmentalization, certain functionalities were refactored in their own class method to abstract the code flow, and simply make the main loop code more readable. For example, there is a dedicated method for the receiving of input from the user, a dedicated method for the sending of the message to the satellite server, etc. \n",
    "\n",
    "In short, one could argue that this lab was simply an extension on the UDP client code from lab 1, although with an OOP implementation, and rather than sending plain byte strings, the client and server are sending serialized data with protobuf.\n",
    "\n",
    "# Testing\n",
    "Below are the outputs of the listed commands (valid and invalid) inputted into the client. \n",
    "\n",
    "* Location\n",
    "  * Replied with the latitude and longitude\n",
    "* time \n",
    "  * Replied with the current satellite time\n",
    "* Move\n",
    "  * Requests latitude\n",
    "  * Requests longitude\n",
    "  * Replied with new location of sat\n",
    "* Location \n",
    "  * Replied with updated location\n",
    "* Move 4 3\n",
    "  * ERROR\n",
    "* jk \n",
    "  * ERROR\n",
    "* Location time\n",
    "  * ERROR\n",
    "* Testing timeout by setting sat to unresponsive\n",
    "  * Replies with # of timeouts.\n",
    "  * Stops and creates a new prompt after 5 time outs.\n"
   ]
  }
 ],
 "metadata": {
  "kernelspec": {
   "display_name": "Python 3",
   "language": "python",
   "name": "python3"
  },
  "language_info": {
   "codemirror_mode": {
    "name": "ipython",
    "version": 2
   },
   "file_extension": ".py",
   "mimetype": "text/x-python",
   "name": "python",
   "nbconvert_exporter": "python",
   "pygments_lexer": "ipython2",
   "version": "2.7.6"
  }
 },
 "nbformat": 4,
 "nbformat_minor": 0
}
